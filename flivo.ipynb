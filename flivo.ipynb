{
 "cells": [
  {
   "cell_type": "code",
   "execution_count": 1,
   "id": "3ad2d68a",
   "metadata": {},
   "outputs": [],
   "source": [
    "import pandas as pd\n",
    "import re\n",
    "from sklearn.model_selection import train_test_split\n",
    "from sklearn.linear_model import LogisticRegression\n",
    "from sklearn.metrics import r2_score,accuracy_score"
   ]
  },
  {
   "cell_type": "code",
   "execution_count": 2,
   "id": "133b802e",
   "metadata": {},
   "outputs": [],
   "source": [
    "def preprocess_date(date_str):\n",
    "    return re.sub(r'(\\d+)(st|nd|rd|th)', r'\\1', date_str)"
   ]
  },
  {
   "cell_type": "code",
   "execution_count": 3,
   "id": "bd755239",
   "metadata": {},
   "outputs": [
    {
     "data": {
      "text/html": [
       "<div>\n",
       "<style scoped>\n",
       "    .dataframe tbody tr th:only-of-type {\n",
       "        vertical-align: middle;\n",
       "    }\n",
       "\n",
       "    .dataframe tbody tr th {\n",
       "        vertical-align: top;\n",
       "    }\n",
       "\n",
       "    .dataframe thead th {\n",
       "        text-align: right;\n",
       "    }\n",
       "</style>\n",
       "<table border=\"1\" class=\"dataframe\">\n",
       "  <thead>\n",
       "    <tr style=\"text-align: right;\">\n",
       "      <th></th>\n",
       "      <th>Name</th>\n",
       "      <th>Date</th>\n",
       "      <th>Status</th>\n",
       "    </tr>\n",
       "  </thead>\n",
       "  <tbody>\n",
       "    <tr>\n",
       "      <th>0</th>\n",
       "      <td>Samay</td>\n",
       "      <td>29th July 2023</td>\n",
       "      <td>not approved</td>\n",
       "    </tr>\n",
       "    <tr>\n",
       "      <th>1</th>\n",
       "      <td>Megha</td>\n",
       "      <td>26th July 2023</td>\n",
       "      <td>approved</td>\n",
       "    </tr>\n",
       "    <tr>\n",
       "      <th>2</th>\n",
       "      <td>Vishwajeet</td>\n",
       "      <td>25th July 2023</td>\n",
       "      <td>approved</td>\n",
       "    </tr>\n",
       "  </tbody>\n",
       "</table>\n",
       "</div>"
      ],
      "text/plain": [
       "         Name            Date        Status\n",
       "0       Samay  29th July 2023  not approved\n",
       "1       Megha  26th July 2023      approved\n",
       "2  Vishwajeet  25th July 2023      approved"
      ]
     },
     "execution_count": 3,
     "metadata": {},
     "output_type": "execute_result"
    }
   ],
   "source": [
    "file_path = r\"F:\\\\flivo.csv\"\n",
    "df = pd.read_csv(file_path)\n",
    "df.head()"
   ]
  },
  {
   "cell_type": "code",
   "execution_count": 4,
   "id": "b7dd496c",
   "metadata": {},
   "outputs": [
    {
     "data": {
      "text/html": [
       "<div>\n",
       "<style scoped>\n",
       "    .dataframe tbody tr th:only-of-type {\n",
       "        vertical-align: middle;\n",
       "    }\n",
       "\n",
       "    .dataframe tbody tr th {\n",
       "        vertical-align: top;\n",
       "    }\n",
       "\n",
       "    .dataframe thead th {\n",
       "        text-align: right;\n",
       "    }\n",
       "</style>\n",
       "<table border=\"1\" class=\"dataframe\">\n",
       "  <thead>\n",
       "    <tr style=\"text-align: right;\">\n",
       "      <th></th>\n",
       "      <th>Name</th>\n",
       "      <th>Date</th>\n",
       "      <th>Status</th>\n",
       "    </tr>\n",
       "  </thead>\n",
       "  <tbody>\n",
       "    <tr>\n",
       "      <th>0</th>\n",
       "      <td>Samay</td>\n",
       "      <td>2023-07-29</td>\n",
       "      <td>0</td>\n",
       "    </tr>\n",
       "    <tr>\n",
       "      <th>1</th>\n",
       "      <td>Megha</td>\n",
       "      <td>2023-07-26</td>\n",
       "      <td>1</td>\n",
       "    </tr>\n",
       "    <tr>\n",
       "      <th>2</th>\n",
       "      <td>Vishwajeet</td>\n",
       "      <td>2023-07-25</td>\n",
       "      <td>1</td>\n",
       "    </tr>\n",
       "  </tbody>\n",
       "</table>\n",
       "</div>"
      ],
      "text/plain": [
       "         Name       Date  Status\n",
       "0       Samay 2023-07-29       0\n",
       "1       Megha 2023-07-26       1\n",
       "2  Vishwajeet 2023-07-25       1"
      ]
     },
     "execution_count": 4,
     "metadata": {},
     "output_type": "execute_result"
    }
   ],
   "source": [
    "df[\"Date\"] = pd.to_datetime(df[\"Date\"].apply(preprocess_date))\n",
    "df['Status'] = df['Status'].map({'approved': 1, 'not approved': 0})\n",
    "df.head()"
   ]
  },
  {
   "cell_type": "code",
   "execution_count": 5,
   "id": "b2fe8329",
   "metadata": {},
   "outputs": [
    {
     "name": "stdout",
     "output_type": "stream",
     "text": [
      "2023-08-01 00:00:00\n"
     ]
    }
   ],
   "source": [
    "date=\"1st August 2023\"#deadline date \n",
    "deadline=pd.to_datetime(preprocess_date(date))\n",
    "print(deadline)"
   ]
  },
  {
   "cell_type": "code",
   "execution_count": 6,
   "id": "89e2eaa5",
   "metadata": {},
   "outputs": [
    {
     "data": {
      "text/html": [
       "<div>\n",
       "<style scoped>\n",
       "    .dataframe tbody tr th:only-of-type {\n",
       "        vertical-align: middle;\n",
       "    }\n",
       "\n",
       "    .dataframe tbody tr th {\n",
       "        vertical-align: top;\n",
       "    }\n",
       "\n",
       "    .dataframe thead th {\n",
       "        text-align: right;\n",
       "    }\n",
       "</style>\n",
       "<table border=\"1\" class=\"dataframe\">\n",
       "  <thead>\n",
       "    <tr style=\"text-align: right;\">\n",
       "      <th></th>\n",
       "      <th>Name</th>\n",
       "      <th>Date</th>\n",
       "      <th>Status</th>\n",
       "      <th>date_difference</th>\n",
       "    </tr>\n",
       "  </thead>\n",
       "  <tbody>\n",
       "    <tr>\n",
       "      <th>0</th>\n",
       "      <td>Samay</td>\n",
       "      <td>2023-07-29</td>\n",
       "      <td>0</td>\n",
       "      <td>3</td>\n",
       "    </tr>\n",
       "    <tr>\n",
       "      <th>1</th>\n",
       "      <td>Megha</td>\n",
       "      <td>2023-07-26</td>\n",
       "      <td>1</td>\n",
       "      <td>6</td>\n",
       "    </tr>\n",
       "    <tr>\n",
       "      <th>2</th>\n",
       "      <td>Vishwajeet</td>\n",
       "      <td>2023-07-25</td>\n",
       "      <td>1</td>\n",
       "      <td>7</td>\n",
       "    </tr>\n",
       "  </tbody>\n",
       "</table>\n",
       "</div>"
      ],
      "text/plain": [
       "         Name       Date  Status  date_difference\n",
       "0       Samay 2023-07-29       0                3\n",
       "1       Megha 2023-07-26       1                6\n",
       "2  Vishwajeet 2023-07-25       1                7"
      ]
     },
     "execution_count": 6,
     "metadata": {},
     "output_type": "execute_result"
    }
   ],
   "source": [
    "df['date_difference'] = -(df[\"Date\"] - deadline).dt.days\n",
    "df.head()"
   ]
  },
  {
   "cell_type": "code",
   "execution_count": 7,
   "id": "8526bcea",
   "metadata": {},
   "outputs": [],
   "source": [
    "X = df[['date_difference']]\n",
    "y = df['Status']\n",
    "X_train, X_test, y_train, y_test = X,X,y,y"
   ]
  },
  {
   "cell_type": "code",
   "execution_count": 8,
   "id": "31f1e5e1",
   "metadata": {},
   "outputs": [
    {
     "data": {
      "text/plain": [
       "LogisticRegression()"
      ]
     },
     "execution_count": 8,
     "metadata": {},
     "output_type": "execute_result"
    }
   ],
   "source": [
    "model = LogisticRegression()\n",
    "model.fit(X_train, y_train)"
   ]
  },
  {
   "cell_type": "code",
   "execution_count": 9,
   "id": "f8d19bb4",
   "metadata": {},
   "outputs": [],
   "source": [
    "y_pred = model.predict(X_test)"
   ]
  },
  {
   "cell_type": "code",
   "execution_count": 10,
   "id": "d345395f",
   "metadata": {},
   "outputs": [
    {
     "name": "stdout",
     "output_type": "stream",
     "text": [
      "R-squared score: 1.0\n",
      "Accuracy: 1.0\n"
     ]
    }
   ],
   "source": [
    "r2_score = r2_score(y_test, y_pred)\n",
    "print('R-squared score:', r2_score)\n",
    "accuracy = accuracy_score(y_test, y_pred)\n",
    "print('Accuracy:', accuracy)"
   ]
  },
  {
   "cell_type": "code",
   "execution_count": 11,
   "id": "3d075650",
   "metadata": {},
   "outputs": [],
   "source": [
    "def approval(test,name,deadline):\n",
    "    test_data=pd.to_datetime(preprocess_date(test))\n",
    "    #print(test_data)\n",
    "    test_diff=-(test_data -pd.to_datetime(preprocess_date(deadline))).days\n",
    "    #print(test_diff)\n",
    "    if(test_diff<0):\n",
    "        print(\"The date requested '\",test,\"' is after the deadline '\",deadline,\"'\")\n",
    "    else:\n",
    "        new_data = pd.DataFrame({'date_difference':[test_diff]})\n",
    "        status=model.predict(new_data)\n",
    "        #print(status)\n",
    "        if (status==0):\n",
    "            print(\"Leave not approved for \",name,\" on \",test)\n",
    "        elif(status==1):\n",
    "            print(\"Leave approved for \",name,\" on \",test)"
   ]
  },
  {
   "cell_type": "code",
   "execution_count": 12,
   "id": "4b5281fa",
   "metadata": {},
   "outputs": [
    {
     "name": "stdout",
     "output_type": "stream",
     "text": [
      "Leave approved for  Logesh  on  27th July 2023\n"
     ]
    }
   ],
   "source": [
    "#testing on user example1\n",
    "name=\"Logesh\"\n",
    "test=\"27th July 2023\"\n",
    "date=\"1st August 2023\"#deadline date \n",
    "approval(test,name,date)"
   ]
  },
  {
   "cell_type": "code",
   "execution_count": 13,
   "id": "174236df",
   "metadata": {},
   "outputs": [
    {
     "name": "stdout",
     "output_type": "stream",
     "text": [
      "Leave not approved for  Logesh  on  28th July 2023\n"
     ]
    }
   ],
   "source": [
    "#testing on user example2\n",
    "name=\"Logesh\"\n",
    "test=\"28th July 2023\"\n",
    "date=\"1st August 2023\"#deadline date\n",
    "approval(test,name,date)"
   ]
  },
  {
   "cell_type": "code",
   "execution_count": 14,
   "id": "653eac85",
   "metadata": {},
   "outputs": [
    {
     "name": "stdout",
     "output_type": "stream",
     "text": [
      "The date requested ' 8th August 2023 ' is after the deadline ' 1st August 2023 '\n"
     ]
    }
   ],
   "source": [
    "#testing on user example2\n",
    "name=\"Logesh\"\n",
    "test=\"8th August 2023\"\n",
    "date=\"1st August 2023\"#deadline date\n",
    "approval(test,name,date)"
   ]
  },
  {
   "cell_type": "code",
   "execution_count": null,
   "id": "346d26bf",
   "metadata": {},
   "outputs": [],
   "source": []
  }
 ],
 "metadata": {
  "kernelspec": {
   "display_name": "Python 3 (ipykernel)",
   "language": "python",
   "name": "python3"
  },
  "language_info": {
   "codemirror_mode": {
    "name": "ipython",
    "version": 3
   },
   "file_extension": ".py",
   "mimetype": "text/x-python",
   "name": "python",
   "nbconvert_exporter": "python",
   "pygments_lexer": "ipython3",
   "version": "3.10.0"
  }
 },
 "nbformat": 4,
 "nbformat_minor": 5
}
